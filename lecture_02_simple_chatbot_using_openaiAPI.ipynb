{
 "cells": [
  {
   "cell_type": "code",
   "execution_count": 1,
   "id": "33b9bd99-1efc-4de9-9b6e-fe9619cba2b7",
   "metadata": {
    "tags": []
   },
   "outputs": [],
   "source": [
    "import openai\n",
    "import time\n",
    "import os\n",
    "from IPython.display import display, Markdown, Latex"
   ]
  },
  {
   "cell_type": "code",
   "execution_count": 2,
   "id": "8fcffd36-0041-4004-a8e6-17d037f1fe54",
   "metadata": {
    "tags": []
   },
   "outputs": [],
   "source": [
    "# Set up OpenAI API key\n",
    "openai.api_key    = os.environ[\"OPENAI_API_KEY\"]\n",
    "MODEL             = 'gpt-4o'\n",
    "TEMPERATURE       = 0.1\n",
    "MAX_TOKENS        = 2048"
   ]
  },
  {
   "cell_type": "markdown",
   "id": "441c6c2e-4067-4eb4-bf48-42888c7198b2",
   "metadata": {
    "tags": []
   },
   "source": [
    "system_message = 'you are data scientist and data engineer who has worked in this field for more than 20 years. your speciality is PySpark on Databricks'\n",
    "system_message = 'you are expert on mnemonic major system. you have read all the books and research paper on memory techniques. You have done extensive research on human memory'"
   ]
  },
  {
   "cell_type": "code",
   "execution_count": 3,
   "id": "edd16b61-0e6e-43e4-858f-d5116a73efe3",
   "metadata": {
    "tags": []
   },
   "outputs": [
    {
     "name": "stdin",
     "output_type": "stream",
     "text": [
      "what you want your system to be ?  helpful assistant\n"
     ]
    }
   ],
   "source": [
    "system_message = input('what you want your system to be ? ')"
   ]
  },
  {
   "cell_type": "code",
   "execution_count": 4,
   "id": "a2364aa9-490a-4a06-9219-fa4581423d4d",
   "metadata": {
    "tags": []
   },
   "outputs": [],
   "source": [
    "MESSAGES = [\n",
    "    {'role': 'system', 'content':system_message},\n",
    "]"
   ]
  },
  {
   "cell_type": "code",
   "execution_count": 5,
   "id": "b8299259-4fb8-4394-a1da-14d66573fa37",
   "metadata": {},
   "outputs": [],
   "source": [
    "client = openai.Client()"
   ]
  },
  {
   "cell_type": "code",
   "execution_count": 6,
   "id": "4fc8bd3d-1e17-4996-b0eb-2b5dcaa93812",
   "metadata": {},
   "outputs": [],
   "source": [
    "response = client.chat.completions.create(messages=MESSAGES,model=MODEL)"
   ]
  },
  {
   "cell_type": "code",
   "execution_count": 7,
   "id": "356cee76-a5e5-4efa-a644-bd6d484936b6",
   "metadata": {},
   "outputs": [
    {
     "data": {
      "text/plain": [
       "'Sure! How can I assist you today?'"
      ]
     },
     "execution_count": 7,
     "metadata": {},
     "output_type": "execute_result"
    }
   ],
   "source": [
    "response.choices[0].message.content.strip()"
   ]
  },
  {
   "cell_type": "code",
   "execution_count": 8,
   "id": "17f96611-197c-41ce-9818-37a6b1efa433",
   "metadata": {
    "tags": []
   },
   "outputs": [
    {
     "name": "stdin",
     "output_type": "stream",
     "text": [
      "You:\t i create youtube videos, about teaching machine learning and Generative AI. \\n\\n  I want to add this as my experience in LinkedIn. what should be the title\n"
     ]
    },
    {
     "data": {
      "text/markdown": [
       "Certainly! Here are a few title suggestions for your LinkedIn experience section that reflect your role in creating educational content on machine learning and Generative AI:\n",
       "\n",
       "1. **Content Creator & Educator - Machine Learning and Generative AI**\n",
       "2. **YouTube Educator - Machine Learning & Generative AI**\n",
       "3. **Educational Content Developer - Machine Learning and Generative AI**\n",
       "4. **YouTube Instructor - Machine Learning & Generative AI**\n",
       "5. **Machine Learning & Generative AI Content Specialist**\n",
       "6. **AI Educator & YouTube Content Creator**\n",
       "7. **Digital Educator - Machine Learning and Generative AI**\n",
       "8. **YouTube Channel Host - Machine Learning & Generative AI Tutorials**\n",
       "9. **Online Educator - Machine Learning and Generative AI**\n",
       "10. **AI & Machine Learning YouTube Educator**\n",
       "\n",
       "Choose a title that best fits the nature of your work and how you want to present your expertise to potential connections and employers."
      ],
      "text/plain": [
       "<IPython.core.display.Markdown object>"
      ]
     },
     "metadata": {},
     "output_type": "display_data"
    },
    {
     "name": "stdin",
     "output_type": "stream",
     "text": [
      "You:\t quit\n"
     ]
    },
    {
     "data": {
      "text/markdown": [
       "If you're looking to update your LinkedIn profile to reflect that you've stopped creating YouTube videos, you might want to consider how to phrase this in a professional and positive manner. Here are a few suggestions for your LinkedIn experience section:\n",
       "\n",
       "1. **Former Content Creator & Educator - Machine Learning and Generative AI**\n",
       "2. **Previous YouTube Educator - Machine Learning & Generative AI**\n",
       "3. **Past Educational Content Developer - Machine Learning and Generative AI**\n",
       "4. **Former YouTube Instructor - Machine Learning & Generative AI**\n",
       "5. **Previous Machine Learning & Generative AI Content Specialist**\n",
       "\n",
       "In the description, you can add:\n",
       "\n",
       "\"Created and published educational content on machine learning and Generative AI on YouTube, helping thousands of viewers understand complex topics. Successfully grew a community of learners and provided valuable resources for those interested in AI technologies. Transitioned from this role in [Month, Year] to pursue new opportunities.\"\n",
       "\n",
       "This approach highlights your accomplishments and the value you provided while also indicating that you've moved on to other endeavors."
      ],
      "text/plain": [
       "<IPython.core.display.Markdown object>"
      ]
     },
     "metadata": {},
     "output_type": "display_data"
    },
    {
     "name": "stdin",
     "output_type": "stream",
     "text": [
      "You:\t exit\n"
     ]
    },
    {
     "name": "stdout",
     "output_type": "stream",
     "text": [
      "Goodbye!\n"
     ]
    }
   ],
   "source": [
    "# Start the chat\n",
    "while True:\n",
    "\n",
    "    # Get user input\n",
    "    user_message = input(\"You:\\t\")\n",
    "\n",
    "    # Exit if user enters 'exit'\n",
    "    if user_message.lower() == \"exit\":\n",
    "        print(\"Goodbye!\")\n",
    "        break\n",
    "\n",
    "    # Add user message to the message list\n",
    "    MESSAGES.append({'role': 'user', 'content': user_message})\n",
    "\n",
    "    # Call the OpenAI API\n",
    "    response = client.chat.completions.create(model=MODEL,\n",
    "                                            messages=MESSAGES,\n",
    "                                            temperature=TEMPERATURE, \n",
    "                                            max_tokens=MAX_TOKENS)\n",
    "    \n",
    "    MESSAGES.append({'role': 'assistant', 'content': response.choices[0].message.content.strip()}) # type: ignore\n",
    "\n",
    "    # Print the response from the API\n",
    "    #print(\"AI:\\t\", response.choices[0].message.content.strip()) # type: ignore\n",
    "    \n",
    "    # display the markdown\n",
    "    display(Markdown(response.choices[0].message.content)) # type: ignore\n",
    "\n",
    "    time.sleep(0.5)"
   ]
  },
  {
   "cell_type": "code",
   "execution_count": null,
   "id": "b3748cd0-88a8-48f3-9870-b8f261c4d39c",
   "metadata": {},
   "outputs": [],
   "source": [
    "MESSAGES"
   ]
  },
  {
   "cell_type": "code",
   "execution_count": null,
   "id": "affe7a9c-41d8-402c-9372-8345c7a0c1c1",
   "metadata": {},
   "outputs": [],
   "source": [
    "import json\n",
    "from datetime import datetime\n",
    "\n",
    "# Your list of JSON objects\n",
    "\n",
    "\n",
    "# Convert the list to a string\n",
    "json_str = json.dumps(MESSAGES, indent=4)  # The 'indent' parameter makes the output more readable\n",
    "\n",
    "# Generate the filename\n",
    "current_time = datetime.now()\n",
    "filename = f\"chatgpt_conversation_{current_time.strftime('%Y%m%d_%H%M')}.json\"\n",
    "\n",
    "# Write to the file\n",
    "with open(filename, 'w') as file:\n",
    "    file.write(json_str)\n",
    "\n",
    "print(f\"Data written to {filename}\")"
   ]
  },
  {
   "cell_type": "code",
   "execution_count": null,
   "id": "a20603b4-88f4-4e50-8e26-f62e6e3160f5",
   "metadata": {},
   "outputs": [],
   "source": []
  }
 ],
 "metadata": {
  "kernelspec": {
   "display_name": "Python 3 (ipykernel)",
   "language": "python",
   "name": "python3"
  },
  "language_info": {
   "codemirror_mode": {
    "name": "ipython",
    "version": 3
   },
   "file_extension": ".py",
   "mimetype": "text/x-python",
   "name": "python",
   "nbconvert_exporter": "python",
   "pygments_lexer": "ipython3",
   "version": "3.11.3"
  }
 },
 "nbformat": 4,
 "nbformat_minor": 5
}
