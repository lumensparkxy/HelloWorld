{
 "cells": [
  {
   "cell_type": "markdown",
   "id": "1c2308d3-2888-49ec-b8da-6f93547c7280",
   "metadata": {},
   "source": [
    "# OpenAI"
   ]
  },
  {
   "cell_type": "markdown",
   "id": "d01daed5-6937-4b63-a1ec-c514fef58f64",
   "metadata": {},
   "source": [
    "https://learn.microsoft.com/en-us/azure/ai-services/openai/"
   ]
  },
  {
   "cell_type": "code",
   "execution_count": 1,
   "id": "88578f90-9c5f-4941-85ff-3629c6e2ff8c",
   "metadata": {},
   "outputs": [],
   "source": [
    "import openai\n",
    "import time\n",
    "import os\n",
    "from IPython.display import display, Markdown, Latex"
   ]
  },
  {
   "cell_type": "code",
   "execution_count": 2,
   "id": "d57a5eaf-4463-453c-bcd5-d4ae775a6a2a",
   "metadata": {},
   "outputs": [],
   "source": [
    "ENGINE=\"gpt4x\"\n",
    "TEMPERATURE = 0.1\n",
    "MAX_TOKENS = 2000\n",
    "\n",
    "\n",
    "client = openai.AzureOpenAI(azure_endpoint = os.environ['OAI_ENDPOINT'],\n",
    "                            api_key=os.environ['OAI_API_KEY'],\n",
    "                            api_version='2024-03-01-preview')"
   ]
  },
  {
   "cell_type": "code",
   "execution_count": null,
   "id": "35cca28b-b569-4599-948c-c040a0c30417",
   "metadata": {},
   "outputs": [],
   "source": []
  },
  {
   "cell_type": "code",
   "execution_count": 11,
   "id": "aa5d7737-34a8-4cd0-abf8-a24d80e24cc6",
   "metadata": {},
   "outputs": [],
   "source": [
    "user_question = 'what is the user policy of maswadkar AG regarding returning defective items'"
   ]
  },
  {
   "cell_type": "code",
   "execution_count": 12,
   "id": "f9e4abdc-145a-44d2-8042-000063d5da7a",
   "metadata": {},
   "outputs": [],
   "source": [
    "MESSAGES = [{'role': 'user', 'content':user_question}]"
   ]
  },
  {
   "cell_type": "code",
   "execution_count": 13,
   "id": "125fe38d-8f10-4499-95c8-5ec363de95d6",
   "metadata": {},
   "outputs": [],
   "source": [
    "response = client.chat.completions.create(model=ENGINE,\n",
    "                                          messages=MESSAGES,\n",
    "                                          temperature=int(TEMPERATURE),\n",
    "                                          max_tokens = MAX_TOKENS\n",
    "                                         )"
   ]
  },
  {
   "cell_type": "code",
   "execution_count": 14,
   "id": "5df5a3fe-f9b9-4de5-baca-01c56bef3425",
   "metadata": {},
   "outputs": [
    {
     "data": {
      "text/markdown": [
       "As of my last update in April 2023, I don't have specific information on the user policy of Maswadkar AG regarding returning defective items. Policies on returns, refunds, and exchanges usually depend on the company's terms and conditions at the time of purchase. These policies can vary widely among companies and may also depend on the type of product or service offered.\n",
       "\n",
       "To get accurate and up-to-date information on the return policy for defective items from Maswadkar AG, I recommend taking the following steps:\n",
       "\n",
       "1. **Check the Official Website:** Often, a company's return and exchange policy is detailed on their official website. Look for sections titled \"Returns,\" \"Exchanges,\" \"Customer Service,\" or \"FAQs.\"\n",
       "\n",
       "2. **Review Your Purchase Documentation:** If you've already purchased an item, review any receipts, invoices, or emails you received. Companies often include return policy details with the purchase confirmation or shipping information.\n",
       "\n",
       "3. **Contact Customer Service:** If the information isn't clear or you have specific questions, the most direct way to get accurate information is to contact Maswadkar AG's customer service directly. They can provide guidance tailored to your situation, including steps on how to return a defective item, any restocking fees, required documentation, and the timeframe for processing returns and refunds.\n",
       "\n",
       "4. **Social Media and Online Forums:** Sometimes, other customers' experiences shared on social media platforms or online forums can offer insights into the return process and what you might expect.\n",
       "\n",
       "Remember, return policies can include time limits, condition requirements (e.g., the item must be in its original packaging), and other stipulations. Always verify the most current policy directly with the company to ensure you have the correct information."
      ],
      "text/plain": [
       "<IPython.core.display.Markdown object>"
      ]
     },
     "metadata": {},
     "output_type": "display_data"
    }
   ],
   "source": [
    "# display the markdown Latex\n",
    "display(Markdown(response.choices[0].message.content.strip())) # type: ignore"
   ]
  },
  {
   "cell_type": "code",
   "execution_count": null,
   "id": "a04b906a-0334-44be-adbe-c11d0e1a490a",
   "metadata": {},
   "outputs": [],
   "source": []
  },
  {
   "cell_type": "code",
   "execution_count": null,
   "id": "9270f6e8-6555-441a-bfe8-88581db489d0",
   "metadata": {},
   "outputs": [],
   "source": []
  },
  {
   "cell_type": "code",
   "execution_count": null,
   "id": "35ab2750-044a-41b2-998c-7b7315f558ee",
   "metadata": {},
   "outputs": [],
   "source": []
  },
  {
   "cell_type": "code",
   "execution_count": null,
   "id": "49d24386-7233-44e7-9b8f-89f9315c77b4",
   "metadata": {},
   "outputs": [],
   "source": []
  },
  {
   "cell_type": "code",
   "execution_count": null,
   "id": "6d8aef2e-5cc6-40b4-89bd-717d77158f71",
   "metadata": {},
   "outputs": [],
   "source": []
  },
  {
   "cell_type": "code",
   "execution_count": null,
   "id": "bd8d8cc2-ddfe-4146-9aca-008636ce5204",
   "metadata": {},
   "outputs": [],
   "source": []
  },
  {
   "cell_type": "code",
   "execution_count": null,
   "id": "a060bcac-460c-428b-a6bd-b4b657cb6d1f",
   "metadata": {},
   "outputs": [],
   "source": []
  },
  {
   "cell_type": "code",
   "execution_count": 15,
   "id": "421842c4-a2ca-4bbf-8668-9a1b7b04d8de",
   "metadata": {},
   "outputs": [],
   "source": [
    "myText = '''\n",
    "MASWADKAR AG\n",
    "User return Policy\n",
    "\n",
    "1. Once item is sold can be replaced within 2 weeks, only if the item still has the tag.\n",
    "2. you can only get the same item. You cannot exchange it for another item.\n",
    "3. Money can be transferred back to the same credit / debit card. No cash transaction is allowed\n",
    "\n",
    "'''\n",
    "\n",
    "user_prompt = f'''\n",
    "please refer to the document \n",
    "\n",
    "```\n",
    "{myText}\n",
    "```\n",
    "and answer the question asked by the user\n",
    "```\n",
    "{user_question}\n",
    "```\n",
    "'''"
   ]
  },
  {
   "cell_type": "code",
   "execution_count": 16,
   "id": "bb6c51cc-0433-469c-9e37-dc1f00440f3d",
   "metadata": {},
   "outputs": [],
   "source": [
    "MESSAGES = [{'role': 'user', 'content':user_prompt}]"
   ]
  },
  {
   "cell_type": "code",
   "execution_count": 17,
   "id": "907777ca-aa03-44ff-ac6f-c40627888978",
   "metadata": {},
   "outputs": [],
   "source": [
    "response = client.chat.completions.create(model=ENGINE,\n",
    "                                          messages=MESSAGES,\n",
    "                                          temperature=int(TEMPERATURE),\n",
    "                                          max_tokens = MAX_TOKENS\n",
    "                                         )"
   ]
  },
  {
   "cell_type": "code",
   "execution_count": 18,
   "id": "e87ddf30-f3b7-48a1-be6e-e72cb4628d6f",
   "metadata": {},
   "outputs": [
    {
     "data": {
      "text/markdown": [
       "The document does not explicitly mention a policy regarding returning defective items. It outlines a return policy that allows for the replacement of an item within 2 weeks, provided the item still has its tag, and specifies that the replacement must be the same item, with refunds being processed back to the original credit/debit card. For information specific to defective items, additional details from MASWADKAR AG would be required."
      ],
      "text/plain": [
       "<IPython.core.display.Markdown object>"
      ]
     },
     "metadata": {},
     "output_type": "display_data"
    }
   ],
   "source": [
    "# display the markdown Latex\n",
    "display(Markdown(response.choices[0].message.content.strip())) # type: ignore"
   ]
  },
  {
   "cell_type": "code",
   "execution_count": null,
   "id": "09fd6ea1-f509-4eb9-937f-69d970b653d9",
   "metadata": {},
   "outputs": [],
   "source": []
  }
 ],
 "metadata": {
  "kernelspec": {
   "display_name": "Python 3 (ipykernel)",
   "language": "python",
   "name": "python3"
  },
  "language_info": {
   "codemirror_mode": {
    "name": "ipython",
    "version": 3
   },
   "file_extension": ".py",
   "mimetype": "text/x-python",
   "name": "python",
   "nbconvert_exporter": "python",
   "pygments_lexer": "ipython3",
   "version": "3.11.3"
  }
 },
 "nbformat": 4,
 "nbformat_minor": 5
}
