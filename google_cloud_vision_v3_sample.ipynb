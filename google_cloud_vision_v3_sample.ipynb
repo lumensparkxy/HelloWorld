{
 "cells": [
  {
   "cell_type": "code",
   "execution_count": null,
   "metadata": {},
   "outputs": [],
   "source": [
    "# Import necessary libraries\n",
    "from google.cloud import vision\n",
    "from google.cloud.vision import types\n",
    "import io"
   ]
  },
  {
   "cell_type": "code",
   "execution_count": null,
   "metadata": {},
   "outputs": [],
   "source": [
    "# Function to extract text from an image using Google Cloud Vision API\n",
    "# Uses google vision library and returns string with extracted text from given image\n",
    "def get_text_from_image(image_path):\n",
    "    # Initialize the Google Cloud Vision client\n",
    "    client = vision.ImageAnnotatorClient()\n",
    "    try:\n",
    "        # Read the image file\n",
    "        with io.open(image_path, 'rb') as image_file:\n",
    "            content = image_file.read()\n",
    "\n",
    "        # Create an image object\n",
    "        image = types.Image(content=content)\n",
    "        # Perform text detection on the image\n",
    "        response = client.text_detection(image=image)\n",
    "        # Return the extracted text\n",
    "        return response.full_text_annotation.text\n",
    "    except Exception as e:\n",
    "        # Print any errors that occur\n",
    "        print(e)"
   ]
  },
  {
   "cell_type": "code",
   "execution_count": null,
   "metadata": {},
   "outputs": [],
   "source": [
    "# Extract text from a specific image\n",
    "text = get_text_from_image(image_path='/home/pi/01_input/sports/sports-20.jpg')"
   ]
  },
  {
   "cell_type": "code",
   "execution_count": null,
   "metadata": {},
   "outputs": [],
   "source": [
    "# Print the extracted text\n",
    "print(text)"
   ]
  },
  {
   "cell_type": "code",
   "execution_count": null,
   "metadata": {},
   "outputs": [],
   "source": []
  }
 ],
 "metadata": {
  "kernelspec": {
   "display_name": "Python 3",
   "language": "python",
   "name": "python3"
  },
  "language_info": {
   "codemirror_mode": {
    "name": "ipython",
    "version": 3
   },
   "file_extension": ".py",
   "mimetype": "text/x-python",
   "name": "python",
   "nbconvert_exporter": "python",
   "pygments_lexer": "ipython3",
   "version": "3.6.6"
  }
 },
 "nbformat": 4,
 "nbformat_minor": 2
}
